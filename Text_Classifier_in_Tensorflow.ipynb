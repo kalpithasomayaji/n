{
  "nbformat": 4,
  "nbformat_minor": 0,
  "metadata": {
    "colab": {
      "provenance": []
    },
    "kernelspec": {
      "name": "python3",
      "display_name": "Python 3"
    },
    "language_info": {
      "name": "python"
    }
  },
  "cells": [
    {
      "cell_type": "code",
      "source": [
        "import numpy as np\n",
        "import pandas as pd\n",
        "import seaborn as sn\n",
        "import tensorflow as tf\n",
        "import matplotlib.pyplot as plt\n",
        "from sklearn.model_selection import train_test_split\n",
        "from sklearn.feature_extraction.text import TfidfVectorizer\n",
        "from sklearn.metrics import roc_auc_score, f1_score, confusion_matrix\n",
        "\n",
        "from tensorflow.keras.layers import Dense, Input\n",
        "from tensorflow.keras.models import Model\n",
        "from tensorflow.keras.losses import BinaryCrossentropy\n",
        "from tensorflow.keras.optimizers import Adam"
      ],
      "metadata": {
        "id": "2iOOvvd5_R_B"
      },
      "execution_count": null,
      "outputs": []
    },
    {
      "cell_type": "code",
      "source": [
        "np.random.seed(0)\n",
        "tf.random.set_seed(0)"
      ],
      "metadata": {
        "id": "Q7cmdLa7_YfS"
      },
      "execution_count": null,
      "outputs": []
    },
    {
      "cell_type": "code",
      "source": [
        "df = pd.read_csv('AirlineTweets.csv')"
      ],
      "metadata": {
        "id": "dxpSioAb_cLC"
      },
      "execution_count": null,
      "outputs": []
    },
    {
      "cell_type": "code",
      "source": [
        "df.head()"
      ],
      "metadata": {
        "id": "8QZval7H_gsH"
      },
      "execution_count": null,
      "outputs": []
    },
    {
      "cell_type": "code",
      "source": [
        "df = df[['airline_sentiment', 'text']]"
      ],
      "metadata": {
        "id": "nuVJDVuX_n2E"
      },
      "execution_count": null,
      "outputs": []
    },
    {
      "cell_type": "code",
      "source": [
        "df['airline_sentiment'].hist()"
      ],
      "metadata": {
        "id": "hheMZxw1_ojV"
      },
      "execution_count": null,
      "outputs": []
    },
    {
      "cell_type": "code",
      "source": [
        "df = df[df['airline_sentiment'] != 'neutral'].copy()"
      ],
      "metadata": {
        "id": "wWLcstdS_r6I"
      },
      "execution_count": null,
      "outputs": []
    },
    {
      "cell_type": "code",
      "source": [
        "target_map = {'positive': 1, 'negative': 0}\n",
        "df['target'] = df['airline_sentiment'].map(target_map)"
      ],
      "metadata": {
        "id": "i8kHaXVC_wIo"
      },
      "execution_count": null,
      "outputs": []
    },
    {
      "cell_type": "code",
      "source": [
        "df.head()"
      ],
      "metadata": {
        "id": "OZnnn5ij_y-M"
      },
      "execution_count": null,
      "outputs": []
    },
    {
      "cell_type": "code",
      "source": [
        "df_train, df_test = train_test_split(df, random_state=42)"
      ],
      "metadata": {
        "id": "q_vx7PEc_2_X"
      },
      "execution_count": null,
      "outputs": []
    },
    {
      "cell_type": "code",
      "source": [
        "vectorizer = TfidfVectorizer(max_features=2000)\n",
        "X_train = vectorizer.fit_transform(df_train['text'])\n",
        "X_test = vectorizer.transform(df_test['text'])"
      ],
      "metadata": {
        "id": "JCGuiQaR_9a6"
      },
      "execution_count": null,
      "outputs": []
    },
    {
      "cell_type": "code",
      "source": [
        "# data must not be sparse matrix before passing into tensorflow\n",
        "X_train = X_train.toarray()\n",
        "X_test = X_test.toarray()"
      ],
      "metadata": {
        "id": "II6MVixiACrv"
      },
      "execution_count": null,
      "outputs": []
    },
    {
      "cell_type": "code",
      "source": [
        "Y_train = df_train['target']\n",
        "Y_test = df_test['target']"
      ],
      "metadata": {
        "id": "2YEgdF1YAHmj"
      },
      "execution_count": null,
      "outputs": []
    },
    {
      "cell_type": "code",
      "source": [
        "# input dimensions\n",
        "D = X_train.shape[1]"
      ],
      "metadata": {
        "id": "s57r932fAKel"
      },
      "execution_count": null,
      "outputs": []
    },
    {
      "cell_type": "code",
      "source": [
        "# build model\n",
        "i = Input(shape=(D,))\n",
        "x = Dense(1)(i) # sigmoid included in loss\n",
        "\n",
        "model = Model(i, x)"
      ],
      "metadata": {
        "id": "lwpStLDYAQ7D"
      },
      "execution_count": null,
      "outputs": []
    },
    {
      "cell_type": "code",
      "source": [
        "model.summary()"
      ],
      "metadata": {
        "id": "GOyOseb2ATy7"
      },
      "execution_count": null,
      "outputs": []
    },
    {
      "cell_type": "code",
      "source": [
        "model.compile(\n",
        "  loss=BinaryCrossentropy(from_logits=True),\n",
        "  optimizer=Adam(learning_rate=0.01),\n",
        "  metrics=['accuracy']\n",
        ")"
      ],
      "metadata": {
        "id": "ADWP712IAaXp"
      },
      "execution_count": null,
      "outputs": []
    },
    {
      "cell_type": "code",
      "source": [
        "r = model.fit(\n",
        "  X_train, Y_train,\n",
        "  validation_data=(X_test, Y_test),\n",
        "  epochs=40,\n",
        "  batch_size=128,\n",
        ")"
      ],
      "metadata": {
        "id": "bpx7ijeIAlDp"
      },
      "execution_count": null,
      "outputs": []
    },
    {
      "cell_type": "code",
      "source": [
        "# Plot loss per iteration\n",
        "plt.plot(r.history['loss'], label='train loss')\n",
        "plt.plot(r.history['val_loss'], label='val loss')\n",
        "plt.legend();"
      ],
      "metadata": {
        "id": "V4USoPUvAl6E"
      },
      "execution_count": null,
      "outputs": []
    },
    {
      "cell_type": "code",
      "source": [
        "# Plot accuracy per iteration\n",
        "plt.plot(r.history['accuracy'], label='train acc')\n",
        "plt.plot(r.history['val_accuracy'], label='val acc')\n",
        "plt.legend();"
      ],
      "metadata": {
        "id": "mGRjsexNAq7b"
      },
      "execution_count": null,
      "outputs": []
    },
    {
      "cell_type": "code",
      "source": [
        "P_train = ((model.predict(X_train) > 0) * 1.0).flatten()\n",
        "P_test = ((model.predict(X_test) > 0) * 1.0).flatten()"
      ],
      "metadata": {
        "id": "p7lFMGuqAuu9"
      },
      "execution_count": null,
      "outputs": []
    },
    {
      "cell_type": "code",
      "source": [
        "cm = confusion_matrix(Y_train, P_train, normalize='true')\n",
        "cm"
      ],
      "metadata": {
        "id": "8E7V4UzNAzTy"
      },
      "execution_count": null,
      "outputs": []
    },
    {
      "cell_type": "code",
      "source": [
        "# Scikit-Learn is transitioning to V1 but it's not available on Colab\n",
        "# The changes modify how confusion matrices are plotted\n",
        "def plot_cm(cm):\n",
        "  classes = ['negative', 'positive']\n",
        "  df_cm = pd.DataFrame(cm, index=classes, columns=classes)\n",
        "  ax = sn.heatmap(df_cm, annot=True, fmt='g')\n",
        "  ax.set_xlabel(\"Predicted\")\n",
        "  ax.set_ylabel(\"Target\")\n",
        "\n",
        "plot_cm(cm)"
      ],
      "metadata": {
        "id": "5rdsXHhPA2Gh"
      },
      "execution_count": null,
      "outputs": []
    },
    {
      "cell_type": "code",
      "source": [
        "cm_test = confusion_matrix(Y_test, P_test, normalize='true')\n",
        "plot_cm(cm_test)"
      ],
      "metadata": {
        "id": "zH6xrMdTA56U"
      },
      "execution_count": null,
      "outputs": []
    },
    {
      "cell_type": "code",
      "source": [
        "Pr_train = model.predict(X_train)\n",
        "Pr_test = model.predict(X_test)\n",
        "print(\"Train AUC:\", roc_auc_score(Y_train, Pr_train))\n",
        "print(\"Test AUC:\", roc_auc_score(Y_test, Pr_test))"
      ],
      "metadata": {
        "id": "osANaEabA-nk"
      },
      "execution_count": null,
      "outputs": []
    },
    {
      "cell_type": "code",
      "source": [
        "print(\"Train F1:\", f1_score(Y_train, P_train))\n",
        "print(\"Test F1:\", f1_score(Y_test, P_test))"
      ],
      "metadata": {
        "id": "N2LddLdCBCyG"
      },
      "execution_count": null,
      "outputs": []
    },
    {
      "cell_type": "code",
      "source": [
        "model.layers"
      ],
      "metadata": {
        "id": "neEazdGiBFap"
      },
      "execution_count": null,
      "outputs": []
    },
    {
      "cell_type": "code",
      "source": [
        "model.layers[1].get_weights()"
      ],
      "metadata": {
        "id": "tRsw_HsCBIVo"
      },
      "execution_count": null,
      "outputs": []
    },
    {
      "cell_type": "code",
      "source": [
        "w = model.layers[1].get_weights()[0]"
      ],
      "metadata": {
        "id": "d4xQeEmmBMor"
      },
      "execution_count": null,
      "outputs": []
    },
    {
      "cell_type": "code",
      "source": [
        "word_index_map = vectorizer.vocabulary_\n",
        "word_index_map"
      ],
      "metadata": {
        "id": "UvNeT2mwBS4S"
      },
      "execution_count": null,
      "outputs": []
    },
    {
      "cell_type": "code",
      "source": [
        "# let's look at the weights for each word\n",
        "# try it with different threshold values!\n",
        "threshold = 2\n",
        "\n",
        "print(\"Most positive words:\")\n",
        "word_weight_tuples = []\n",
        "for word, index in word_index_map.items():\n",
        "    weight = w[index, 0]\n",
        "    if weight > threshold:\n",
        "        word_weight_tuples.append((word, weight))\n",
        "\n",
        "word_weight_tuples = sorted(word_weight_tuples, key=lambda x: -x[1])\n",
        "for i in range(10):\n",
        "  word, weight = word_weight_tuples[i]\n",
        "  print(word, weight)"
      ],
      "metadata": {
        "id": "bFb6DfM1BYbu"
      },
      "execution_count": null,
      "outputs": []
    },
    {
      "cell_type": "code",
      "source": [
        "print(\"Most negative words:\")\n",
        "word_weight_tuples = []\n",
        "for word, index in word_index_map.items():\n",
        "    weight = w[index, 0]\n",
        "    if weight < -threshold:\n",
        "        word_weight_tuples.append((word, weight))\n",
        "\n",
        "word_weight_tuples = sorted(word_weight_tuples, key=lambda x: x[1])\n",
        "for i in range(10):\n",
        "  word, weight = word_weight_tuples[i]\n",
        "  print(word, weight)"
      ],
      "metadata": {
        "id": "1ReE54-qCN3F"
      },
      "execution_count": null,
      "outputs": []
    },
    {
      "cell_type": "code",
      "source": [],
      "metadata": {
        "id": "UDEYVK5fClVT"
      },
      "execution_count": null,
      "outputs": []
    }
  ]
}