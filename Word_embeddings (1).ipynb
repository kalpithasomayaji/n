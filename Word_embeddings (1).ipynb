{
  "nbformat": 4,
  "nbformat_minor": 0,
  "metadata": {
    "colab": {
      "provenance": []
    },
    "kernelspec": {
      "name": "python3",
      "display_name": "Python 3"
    },
    "language_info": {
      "name": "python"
    }
  },
  "cells": [
    {
      "cell_type": "code",
      "execution_count": 1,
      "metadata": {
        "colab": {
          "base_uri": "https://localhost:8080/"
        },
        "id": "-3oIpmli-jNE",
        "outputId": "f68b56f0-895a-4d34-f38c-595fa730d7f0"
      },
      "outputs": [
        {
          "output_type": "stream",
          "name": "stdout",
          "text": [
            "--2025-01-27 08:57:25--  https://archive.org/download/google-news-vectors-negative-300.bin_202311/GoogleNews-vectors-negative300.bin.gz\n",
            "Resolving archive.org (archive.org)... 207.241.224.2\n",
            "Connecting to archive.org (archive.org)|207.241.224.2|:443... connected.\n",
            "HTTP request sent, awaiting response... 302 Found\n",
            "Location: https://ia601203.us.archive.org/18/items/google-news-vectors-negative-300.bin_202311/GoogleNews-vectors-negative300.bin.gz [following]\n",
            "--2025-01-27 08:57:25--  https://ia601203.us.archive.org/18/items/google-news-vectors-negative-300.bin_202311/GoogleNews-vectors-negative300.bin.gz\n",
            "Resolving ia601203.us.archive.org (ia601203.us.archive.org)... 207.241.227.133\n",
            "Connecting to ia601203.us.archive.org (ia601203.us.archive.org)|207.241.227.133|:443... connected.\n",
            "HTTP request sent, awaiting response... 200 OK\n",
            "Length: 1647046227 (1.5G) [application/octet-stream]\n",
            "Saving to: ‘GoogleNews-vectors-negative300.bin.gz’\n",
            "\n",
            "GoogleNews-vectors- 100%[===================>]   1.53G   118MB/s    in 16s     \n",
            "\n",
            "2025-01-27 08:57:42 (95.9 MB/s) - ‘GoogleNews-vectors-negative300.bin.gz’ saved [1647046227/1647046227]\n",
            "\n"
          ]
        }
      ],
      "source": [
        "# Slower but always guaranteed to work\n",
        "!wget -nc https://archive.org/download/google-news-vectors-negative-300.bin_202311/GoogleNews-vectors-negative300.bin.gz\n",
        "\n",
        "# You are better off just downloading this from the source\n",
        "# https://drive.google.com/file/d/0B7XkCwpI5KDYNlNUTTlSS21pQmM/edit?usp=sharing\n",
        "# https://code.google.com/archive/p/word2vec/"
      ]
    },
    {
      "cell_type": "code",
      "source": [
        "!gunzip GoogleNews-vectors-negative300.bin.gz"
      ],
      "metadata": {
        "id": "BFwe8xG5-pzk"
      },
      "execution_count": 2,
      "outputs": []
    },
    {
      "cell_type": "code",
      "source": [
        "from gensim.models import KeyedVectors"
      ],
      "metadata": {
        "id": "kAWl-0Y_-1Nn"
      },
      "execution_count": 3,
      "outputs": []
    },
    {
      "cell_type": "code",
      "source": [
        "word_vectors = KeyedVectors.load_word2vec_format(\n",
        "  'GoogleNews-vectors-negative300.bin',\n",
        "  binary=True\n",
        ")"
      ],
      "metadata": {
        "id": "I8ybUOqm_JJo"
      },
      "execution_count": 4,
      "outputs": []
    },
    {
      "cell_type": "code",
      "source": [
        "def find_analogies(w1, w2, w3):\n",
        "  # w1 - w2 = ? - w3\n",
        "  # e.g. king - man = ? - woman\n",
        "  #      ? = +king +woman -man\n",
        "  r = word_vectors.most_similar(positive=[w1, w3], negative=[w2])\n",
        "  print(\"%s - %s = %s - %s\" % (w1, w2, r[0][0], w3))"
      ],
      "metadata": {
        "id": "DWwdrxq__SCy"
      },
      "execution_count": 5,
      "outputs": []
    },
    {
      "cell_type": "code",
      "source": [
        "find_analogies('king', 'man', 'woman')"
      ],
      "metadata": {
        "colab": {
          "base_uri": "https://localhost:8080/"
        },
        "id": "jOdsQm7__TJQ",
        "outputId": "7153e523-2be1-44d7-96e7-9c6e6f1e9445"
      },
      "execution_count": 6,
      "outputs": [
        {
          "output_type": "stream",
          "name": "stdout",
          "text": [
            "king - man = queen - woman\n"
          ]
        }
      ]
    },
    {
      "cell_type": "code",
      "source": [
        "find_analogies('france', 'paris', 'london')"
      ],
      "metadata": {
        "colab": {
          "base_uri": "https://localhost:8080/"
        },
        "id": "YoG22wnZ_WbE",
        "outputId": "4a2205c3-97a9-49d6-b04a-bc1d45875ca3"
      },
      "execution_count": 7,
      "outputs": [
        {
          "output_type": "stream",
          "name": "stdout",
          "text": [
            "france - paris = england - london\n"
          ]
        }
      ]
    },
    {
      "cell_type": "code",
      "source": [
        "find_analogies('france', 'paris', 'rome')"
      ],
      "metadata": {
        "colab": {
          "base_uri": "https://localhost:8080/"
        },
        "id": "QjUDnyyt_eM4",
        "outputId": "a57c6a2f-7e71-4efb-f767-31ac830d5ac1"
      },
      "execution_count": 8,
      "outputs": [
        {
          "output_type": "stream",
          "name": "stdout",
          "text": [
            "france - paris = italy - rome\n"
          ]
        }
      ]
    },
    {
      "cell_type": "code",
      "source": [
        "find_analogies('paris', 'france', 'italy')"
      ],
      "metadata": {
        "id": "xBY9cHWt_pZ5"
      },
      "execution_count": null,
      "outputs": []
    },
    {
      "cell_type": "code",
      "source": [
        "find_analogies('france', 'french', 'english')"
      ],
      "metadata": {
        "id": "p6U_QDds_qoo"
      },
      "execution_count": null,
      "outputs": []
    },
    {
      "cell_type": "code",
      "source": [
        "find_analogies('december', 'november', 'june')"
      ],
      "metadata": {
        "id": "js1cMJ-__t7l"
      },
      "execution_count": null,
      "outputs": []
    },
    {
      "cell_type": "code",
      "source": [
        "find_analogies('miami', 'florida', 'texas')"
      ],
      "metadata": {
        "id": "rBVXRmgO_0RF"
      },
      "execution_count": null,
      "outputs": []
    },
    {
      "cell_type": "code",
      "source": [
        "find_analogies('einstein', 'scientist', 'painter')"
      ],
      "metadata": {
        "id": "ml_CrDhH_69S"
      },
      "execution_count": null,
      "outputs": []
    },
    {
      "cell_type": "code",
      "source": [
        "find_analogies('man', 'woman', 'she')"
      ],
      "metadata": {
        "id": "HOvt6bc__-9T"
      },
      "execution_count": null,
      "outputs": []
    },
    {
      "cell_type": "code",
      "source": [
        "find_analogies('man', 'woman', 'aunt')"
      ],
      "metadata": {
        "id": "hRXDGYeKACD3"
      },
      "execution_count": null,
      "outputs": []
    },
    {
      "cell_type": "code",
      "source": [
        "def nearest_neighbors(w):\n",
        "  r = word_vectors.most_similar(positive=[w])\n",
        "  print(\"neighbors of: %s\" % w)\n",
        "  for word, score in r:\n",
        "    print(\"\\t%s\" % word)"
      ],
      "metadata": {
        "id": "QYEV4_6PAFOD"
      },
      "execution_count": 9,
      "outputs": []
    },
    {
      "cell_type": "code",
      "source": [
        "nearest_neighbors('king')"
      ],
      "metadata": {
        "colab": {
          "base_uri": "https://localhost:8080/"
        },
        "id": "qu8bQ7mXAUsy",
        "outputId": "1de713df-7bad-4a33-8851-3273e222e145"
      },
      "execution_count": 10,
      "outputs": [
        {
          "output_type": "stream",
          "name": "stdout",
          "text": [
            "neighbors of: king\n",
            "\tkings\n",
            "\tqueen\n",
            "\tmonarch\n",
            "\tcrown_prince\n",
            "\tprince\n",
            "\tsultan\n",
            "\truler\n",
            "\tprinces\n",
            "\tPrince_Paras\n",
            "\tthrone\n"
          ]
        }
      ]
    },
    {
      "cell_type": "code",
      "source": [
        "nearest_neighbors('france')"
      ],
      "metadata": {
        "id": "0sOqyXIoAaUH"
      },
      "execution_count": null,
      "outputs": []
    },
    {
      "cell_type": "code",
      "source": [
        "nearest_neighbors('japan')"
      ],
      "metadata": {
        "id": "PKPPR-kDAcuu"
      },
      "execution_count": null,
      "outputs": []
    },
    {
      "cell_type": "code",
      "source": [
        "nearest_neighbors('nephew')"
      ],
      "metadata": {
        "id": "CRFHcd66AiKh"
      },
      "execution_count": null,
      "outputs": []
    }
  ]
}