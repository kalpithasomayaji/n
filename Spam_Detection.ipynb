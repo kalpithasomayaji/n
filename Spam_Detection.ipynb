{
  "nbformat": 4,
  "nbformat_minor": 0,
  "metadata": {
    "colab": {
      "provenance": []
    },
    "kernelspec": {
      "name": "python3",
      "display_name": "Python 3"
    },
    "language_info": {
      "name": "python"
    }
  },
  "cells": [
    {
      "cell_type": "code",
      "execution_count": 1,
      "metadata": {
        "id": "fAH-_ts2b1kT"
      },
      "outputs": [],
      "source": [
        "import numpy as np\n",
        "import pandas as pd\n",
        "import seaborn as sn\n",
        "import matplotlib.pyplot as plt\n",
        "from sklearn.feature_extraction.text import TfidfVectorizer, CountVectorizer\n",
        "from sklearn.model_selection import train_test_split\n",
        "from sklearn.metrics import roc_auc_score, f1_score, confusion_matrix\n",
        "from sklearn.naive_bayes import MultinomialNB\n",
        "from wordcloud import WordCloud"
      ]
    },
    {
      "cell_type": "code",
      "source": [
        "# file contains some invalid chars\n",
        "# depending on which version of pandas you have\n",
        "# an error may be thrown\n",
        "df = pd.read_csv('spam.csv', encoding='ISO-8859-1')"
      ],
      "metadata": {
        "id": "IP1SVS1BcT2y"
      },
      "execution_count": null,
      "outputs": []
    },
    {
      "cell_type": "code",
      "source": [
        "df.head()"
      ],
      "metadata": {
        "id": "3PaSLZr1cX44"
      },
      "execution_count": null,
      "outputs": []
    },
    {
      "cell_type": "code",
      "source": [
        "# drop unnecessary columns\n",
        "df = df.drop([\"Unnamed: 2\", \"Unnamed: 3\", \"Unnamed: 4\"], axis=1)"
      ],
      "metadata": {
        "id": "EiDyd7aZcan6"
      },
      "execution_count": null,
      "outputs": []
    },
    {
      "cell_type": "code",
      "source": [
        "df.head()"
      ],
      "metadata": {
        "id": "k3Q58YKochGX"
      },
      "execution_count": null,
      "outputs": []
    },
    {
      "cell_type": "code",
      "source": [
        "# rename columns to something better\n",
        "df.columns = ['labels', 'data']"
      ],
      "metadata": {
        "id": "6yCwLKetckSu"
      },
      "execution_count": null,
      "outputs": []
    },
    {
      "cell_type": "code",
      "source": [
        "df['labels'].hist()"
      ],
      "metadata": {
        "id": "Et0x8HHBcoaj"
      },
      "execution_count": null,
      "outputs": []
    },
    {
      "cell_type": "code",
      "source": [
        "# create binary labels\n",
        "df['b_labels'] = df['labels'].map({'ham': 0, 'spam': 1})\n",
        "Y = df['b_labels'].to_numpy()"
      ],
      "metadata": {
        "id": "bEv5-g7Ccr-M"
      },
      "execution_count": null,
      "outputs": []
    },
    {
      "cell_type": "code",
      "source": [
        "# split up the data\n",
        "df_train, df_test, Ytrain, Ytest = train_test_split(\n",
        "    df['data'], Y, test_size=0.33)"
      ],
      "metadata": {
        "id": "9V_p7f-ZcwQ5"
      },
      "execution_count": null,
      "outputs": []
    },
    {
      "cell_type": "code",
      "source": [
        "# try multiple ways of calculating features\n",
        "# featurizer = TfidfVectorizer(decode_error='ignore')\n",
        "# Xtrain = featurizer.fit_transform(df_train)\n",
        "# Xtest = featurizer.transform(df_test)\n",
        "\n",
        "featurizer = CountVectorizer(decode_error='ignore')\n",
        "Xtrain = featurizer.fit_transform(df_train)\n",
        "Xtest = featurizer.transform(df_test)"
      ],
      "metadata": {
        "id": "5mivXYt7cyts"
      },
      "execution_count": null,
      "outputs": []
    },
    {
      "cell_type": "code",
      "source": [
        "Xtrain"
      ],
      "metadata": {
        "id": "RmGodr29c3aV"
      },
      "execution_count": null,
      "outputs": []
    },
    {
      "cell_type": "code",
      "source": [
        "# create the model, train it, print scores\n",
        "model = MultinomialNB()\n",
        "model.fit(Xtrain, Ytrain)\n",
        "print(\"train acc:\", model.score(Xtrain, Ytrain))\n",
        "print(\"test acc:\", model.score(Xtest, Ytest))"
      ],
      "metadata": {
        "id": "nqiMlJwCc5zS"
      },
      "execution_count": null,
      "outputs": []
    },
    {
      "cell_type": "code",
      "source": [
        "Ptrain = model.predict(Xtrain)\n",
        "Ptest = model.predict(Xtest)\n",
        "print(\"train F1:\", f1_score(Ytrain, Ptrain))\n",
        "print(\"test F1:\", f1_score(Ytest, Ptest))"
      ],
      "metadata": {
        "id": "rCGDeQyvdBP9"
      },
      "execution_count": null,
      "outputs": []
    },
    {
      "cell_type": "code",
      "source": [
        "Prob_train = model.predict_proba(Xtrain)[:,1]\n",
        "Prob_test = model.predict_proba(Xtest)[:,1]\n",
        "print(\"train AUC:\", roc_auc_score(Ytrain, Prob_train))\n",
        "print(\"test AUC:\", roc_auc_score(Ytest, Prob_test))"
      ],
      "metadata": {
        "id": "EKdGEUr5dFdo"
      },
      "execution_count": null,
      "outputs": []
    },
    {
      "cell_type": "code",
      "source": [
        "cm = confusion_matrix(Ytrain, Ptrain)\n",
        "cm"
      ],
      "metadata": {
        "id": "zHSPMw3kdGO6"
      },
      "execution_count": null,
      "outputs": []
    },
    {
      "cell_type": "code",
      "source": [
        "# Scikit-Learn is transitioning to V1 but it's not available on Colab\n",
        "# The changes modify how confusion matrices are plotted\n",
        "def plot_cm(cm):\n",
        "  classes = ['ham', 'spam']\n",
        "  df_cm = pd.DataFrame(cm, index=classes, columns=classes)\n",
        "  ax = sn.heatmap(df_cm, annot=True, fmt='g')\n",
        "  ax.set_xlabel(\"Predicted\")\n",
        "  ax.set_ylabel(\"Target\")\n",
        "\n",
        "plot_cm(cm)"
      ],
      "metadata": {
        "id": "YeKSsdYEdI9s"
      },
      "execution_count": null,
      "outputs": []
    },
    {
      "cell_type": "code",
      "source": [
        "cm_test = confusion_matrix(Ytest, Ptest)\n",
        "plot_cm(cm_test)"
      ],
      "metadata": {
        "id": "1XEs6t3SdOzb"
      },
      "execution_count": null,
      "outputs": []
    },
    {
      "cell_type": "code",
      "source": [
        "# visualize the data\n",
        "def visualize(label):\n",
        "  words = ''\n",
        "  for msg in df[df['labels'] == label]['data']:\n",
        "    msg = msg.lower()\n",
        "    words += msg + ' '\n",
        "  wordcloud = WordCloud(width=600, height=400).generate(words)\n",
        "  plt.imshow(wordcloud)\n",
        "  plt.axis('off')\n",
        "  plt.show()"
      ],
      "metadata": {
        "id": "XcrrV3CFdWT0"
      },
      "execution_count": null,
      "outputs": []
    },
    {
      "cell_type": "code",
      "source": [
        "visualize('spam')"
      ],
      "metadata": {
        "id": "NbZwva0gdW_1"
      },
      "execution_count": null,
      "outputs": []
    },
    {
      "cell_type": "code",
      "source": [
        "visualize('ham')"
      ],
      "metadata": {
        "id": "rjAUNGGPdZxg"
      },
      "execution_count": null,
      "outputs": []
    },
    {
      "cell_type": "code",
      "source": [
        "# see what we're getting wrong\n",
        "X = featurizer.transform(df['data'])\n",
        "df['predictions'] = model.predict(X)"
      ],
      "metadata": {
        "id": "NqaKbus5ddXR"
      },
      "execution_count": null,
      "outputs": []
    },
    {
      "cell_type": "code",
      "source": [
        "# things that should be spam\n",
        "sneaky_spam = df[(df['predictions'] == 0) & (df['b_labels'] == 1)]['data']\n",
        "for msg in sneaky_spam:\n",
        "  print(msg)"
      ],
      "metadata": {
        "id": "HLuJtVBudgTk"
      },
      "execution_count": null,
      "outputs": []
    },
    {
      "cell_type": "code",
      "source": [
        "# things that should not be spam\n",
        "# perhaps some are mislabeled?\n",
        "not_actually_spam = df[(df['predictions'] == 1) & (df['b_labels'] == 0)]['data']\n",
        "for msg in not_actually_spam:\n",
        "  print(msg)"
      ],
      "metadata": {
        "id": "tGZIlgd7dj47"
      },
      "execution_count": null,
      "outputs": []
    }
  ]
}